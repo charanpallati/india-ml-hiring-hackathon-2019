{
 "cells": [
  {
   "cell_type": "code",
   "execution_count": 1,
   "metadata": {
    "colab": {},
    "colab_type": "code",
    "id": "JMm1_rAptD7Z"
   },
   "outputs": [],
   "source": [
    "import pandas as pd\n",
    "import numpy as np\n",
    "import math\n",
    "import matplotlib.pyplot as plt"
   ]
  },
  {
   "cell_type": "code",
   "execution_count": 3,
   "metadata": {
    "colab": {},
    "colab_type": "code",
    "id": "DpT9f7JYtD70"
   },
   "outputs": [],
   "source": [
    "df_train=pd.read_csv('train.csv')"
   ]
  },
  {
   "cell_type": "code",
   "execution_count": 4,
   "metadata": {
    "colab": {},
    "colab_type": "code",
    "id": "VZeO367XtD8I"
   },
   "outputs": [],
   "source": [
    "df_test=pd.read_csv('test.csv',parse_dates=['first_payment_date'], dayfirst=True)"
   ]
  },
  {
   "cell_type": "code",
   "execution_count": 5,
   "metadata": {
    "colab": {},
    "colab_type": "code",
    "id": "qFtYzKcs4ltQ"
   },
   "outputs": [],
   "source": [
    "original_Xtrain=df_train.drop('m13',axis=1)"
   ]
  },
  {
   "cell_type": "code",
   "execution_count": 6,
   "metadata": {
    "colab": {
     "base_uri": "https://localhost:8080/",
     "height": 340
    },
    "colab_type": "code",
    "id": "1xDCa7pvtD8k",
    "outputId": "28585507-aa59-4faa-9dff-1cd133367327"
   },
   "outputs": [
    {
     "data": {
      "text/plain": [
       "OTHER                          0.422956\n",
       "Browning-Hart                  0.275157\n",
       "Swanson, Newton and Miller     0.072327\n",
       "Edwards-Hoffman                0.064465\n",
       "Martinez, Duffy and Bird       0.036164\n",
       "Miller, Mcclure and Allen      0.029874\n",
       "Turner, Baldwin and Rhodes     0.022013\n",
       "Cole, Brooks and Vincent       0.018868\n",
       "Nicholson Group                0.017296\n",
       "Suarez Inc                     0.007862\n",
       "Richards-Walters               0.007862\n",
       "Taylor, Hunt and Rodriguez     0.006289\n",
       "Thornton-Davis                 0.004717\n",
       "Anderson-Taylor                0.004717\n",
       "Sanchez, Hays and Wilkerson    0.003145\n",
       "Romero, Woods and Johnson      0.003145\n",
       "Richardson Ltd                 0.001572\n",
       "Sanchez-Robinson               0.001572\n",
       "Name: financial_institution, dtype: float64"
      ]
     },
     "execution_count": 6,
     "metadata": {},
     "output_type": "execute_result"
    }
   ],
   "source": [
    "df_train[df_train.m13==1]['financial_institution'].value_counts(normalize=True)"
   ]
  },
  {
   "cell_type": "code",
   "execution_count": 7,
   "metadata": {
    "colab": {},
    "colab_type": "code",
    "id": "OItLU7IgtD8r"
   },
   "outputs": [
    {
     "data": {
      "text/plain": [
       "OTHER                          0.428255\n",
       "Browning-Hart                  0.274445\n",
       "Swanson, Newton and Miller     0.059157\n",
       "Edwards-Hoffman                0.041725\n",
       "Martinez, Duffy and Bird       0.040651\n",
       "Miller, Mcclure and Allen      0.027196\n",
       "Nicholson Group                0.018237\n",
       "Turner, Baldwin and Rhodes     0.015872\n",
       "Suarez Inc                     0.015465\n",
       "Cole, Brooks and Vincent       0.014122\n",
       "Richards-Walters               0.012597\n",
       "Taylor, Hunt and Rodriguez     0.010873\n",
       "Sanchez-Robinson               0.010327\n",
       "Sanchez, Hays and Wilkerson    0.007373\n",
       "Romero, Woods and Johnson      0.006481\n",
       "Thornton-Davis                 0.005614\n",
       "Anderson-Taylor                0.004159\n",
       "Richardson Ltd                 0.004089\n",
       "Chapman-Mcmahon                0.003362\n",
       "Name: financial_institution, dtype: float64"
      ]
     },
     "execution_count": 7,
     "metadata": {},
     "output_type": "execute_result"
    }
   ],
   "source": [
    "df_train[df_train.m13==0]['financial_institution'].value_counts(normalize=True)"
   ]
  },
  {
   "cell_type": "code",
   "execution_count": null,
   "metadata": {
    "colab": {
     "base_uri": "https://localhost:8080/",
     "height": 231
    },
    "colab_type": "code",
    "id": "QbDCfl7ItD8y",
    "outputId": "51126eac-3335-4b99-8384-e75bafe4d5f2"
   },
   "outputs": [],
   "source": []
  },
  {
   "cell_type": "code",
   "execution_count": 0,
   "metadata": {
    "colab": {},
    "colab_type": "code",
    "id": "Xy2UUVustD88"
   },
   "outputs": [],
   "source": [
    "# df_train['co-borrower_credit_score']=np.log(df_train['co-borrower_credit_score'])"
   ]
  },
  {
   "cell_type": "markdown",
   "metadata": {},
   "source": [
    "## By adding the two borrower_credit_score and co-borrower_credit_score creating new variable Total score"
   ]
  },
  {
   "cell_type": "code",
   "execution_count": 11,
   "metadata": {
    "colab": {},
    "colab_type": "code",
    "id": "bl-ClWvltD9G"
   },
   "outputs": [],
   "source": [
    "df_train['Total_score']=df_train['co-borrower_credit_score']+df_train['borrower_credit_score']\n",
    "df_test['Total_score']=df_test['co-borrower_credit_score']+df_test['borrower_credit_score']"
   ]
  },
  {
   "cell_type": "markdown",
   "metadata": {},
   "source": [
    "## Plot the Total score to check normalization"
   ]
  },
  {
   "cell_type": "code",
   "execution_count": 12,
   "metadata": {
    "colab": {
     "base_uri": "https://localhost:8080/",
     "height": 1000
    },
    "colab_type": "code",
    "id": "WSKm9m915UlL",
    "outputId": "723eb851-a296-4b51-a5ed-845d15c66c90"
   },
   "outputs": [
    {
     "name": "stderr",
     "output_type": "stream",
     "text": [
      "C:\\Users\\saicharan.pallati\\AppData\\Local\\Continuum\\anaconda3\\lib\\site-packages\\scipy\\stats\\stats.py:1713: FutureWarning: Using a non-tuple sequence for multidimensional indexing is deprecated; use `arr[tuple(seq)]` instead of `arr[seq]`. In the future this will be interpreted as an array index, `arr[np.array(seq)]`, which will result either in an error or a different result.\n",
      "  return np.add.reduce(sorted[indexer] * weights, axis=axis) / sumval\n"
     ]
    },
    {
     "data": {
      "image/png": "[encoded data removed]",
      "text/plain": [
       "<Figure size 1152x360 with 2 Axes>"
      ]
     },
     "metadata": {
      "needs_background": "light"
     },
     "output_type": "display_data"
    }
   ],
   "source": [
    "import seaborn as sns\n",
    "plt.figure(1) \n",
    "plt.subplot(121)\n",
    "sns.distplot(df_train['Total_score']); \n",
    "plt.subplot(122) \n",
    "df_train['Total_score'].plot.box(figsize=(16,5)) \n",
    "plt.show()"
   ]
  },
  {
   "cell_type": "code",
   "execution_count": 14,
   "metadata": {
    "colab": {},
    "colab_type": "code",
    "id": "1iyFumDJtGNw"
   },
   "outputs": [],
   "source": [
    "# df_train['unpaid_']=(df_train['unpaid_principal_bal']*df_train['interest_rate'])/df_train['loan_term']\n",
    "# df_test['unpaid_']=(df_test['unpaid_principal_bal']*df_test['interest_rate'])/df_train['loan_term']"
   ]
  },
  {
   "cell_type": "code",
   "execution_count": 0,
   "metadata": {
    "colab": {},
    "colab_type": "code",
    "id": "5A8WpwTkveI-"
   },
   "outputs": [],
   "source": [
    "# df_train.drop('unpaid_',axis=1,inplace=True)\n",
    "# df_test.drop('unpaid_',axis=1,inplace=True)"
   ]
  },
  {
   "cell_type": "code",
   "execution_count": 0,
   "metadata": {
    "colab": {},
    "colab_type": "code",
    "id": "Q4sbJSKy1q9S"
   },
   "outputs": [],
   "source": [
    "# df_train.drop('Total_score',axis=1,inplace=True)\n",
    "# df_test.drop('Total_score',axis=1,inplace=True)\n"
   ]
  },
  {
   "cell_type": "code",
   "execution_count": 0,
   "metadata": {
    "colab": {},
    "colab_type": "code",
    "id": "2ySAYbU9uMBS"
   },
   "outputs": [],
   "source": [
    "# df_train['unpaid_']"
   ]
  },
  {
   "cell_type": "code",
   "execution_count": 15,
   "metadata": {
    "colab": {},
    "colab_type": "code",
    "id": "Oo2rRANmtD9W"
   },
   "outputs": [],
   "source": [
    "df_train.drop(columns=['co-borrower_credit_score','borrower_credit_score'],axis=1,inplace=True)\n",
    "df_test.drop(columns=['co-borrower_credit_score','borrower_credit_score'],axis=1,inplace=True)"
   ]
  },
  {
   "cell_type": "code",
   "execution_count": 16,
   "metadata": {
    "colab": {
     "base_uri": "https://localhost:8080/",
     "height": 575
    },
    "colab_type": "code",
    "id": "0zthAbpitD9g",
    "outputId": "ab294b1e-4f7e-4ab0-8503-dc1fa58a2604"
   },
   "outputs": [],
   "source": [
    "# df_train.boxplot(column='Total_score')\n",
    "# plt.suptitle(\"\")"
   ]
  },
  {
   "cell_type": "code",
   "execution_count": 17,
   "metadata": {
    "colab": {
     "base_uri": "https://localhost:8080/",
     "height": 68
    },
    "colab_type": "code",
    "id": "r7zwPhCYtD9t",
    "outputId": "8033c2af-06dd-4268-be96-2e33bf234039",
    "scrolled": true
   },
   "outputs": [
    {
     "data": {
      "text/plain": [
       "0    0.99452\n",
       "1    0.00548\n",
       "Name: m13, dtype: float64"
      ]
     },
     "execution_count": 17,
     "metadata": {},
     "output_type": "execute_result"
    }
   ],
   "source": [
    "df_train['m13'].value_counts(normalize=True)"
   ]
  },
  {
   "cell_type": "markdown",
   "metadata": {
    "colab_type": "text",
    "id": "VsvCYkyKtD93"
   },
   "source": [
    "## plot Categorical variables"
   ]
  },
  {
   "cell_type": "code",
   "execution_count": 0,
   "metadata": {
    "colab": {},
    "colab_type": "code",
    "id": "E3M34-sdtD96"
   },
   "outputs": [],
   "source": [
    "plt.figure(1) \n",
    "plt.subplot(221) \n",
    "df_train['source'].value_counts(normalize=True).plot.bar(figsize=(20,10), title= 'source') \n",
    "plt.subplot(222) \n",
    "df_train['financial_institution'].value_counts(normalize=True).plot.bar(title= 'financial_institution') \n",
    "plt.subplot(223) \n",
    "df_train['loan_purpose'].value_counts(normalize=True).plot.bar(title= 'loan_purpose') \n",
    "# plt.subplot(224) train['Credit_History'].value_counts(normalize=True).plot.bar(title= 'Credit_History') \n",
    "plt.show()"
   ]
  },
  {
   "cell_type": "code",
   "execution_count": 0,
   "metadata": {
    "colab": {
     "base_uri": "https://localhost:8080/",
     "height": 51
    },
    "colab_type": "code",
    "id": "2bbbrFe9tD-W",
    "outputId": "f23c7c83-7728-487d-88b2-0e17b16cd5dc"
   },
   "outputs": [
    {
     "name": "stdout",
     "output_type": "stream",
     "text": [
      "(116058, 29)\n",
      "(35866, 27)\n"
     ]
    }
   ],
   "source": [
    "print(df_train.shape)\n",
    "print(df_test.shape)"
   ]
  },
  {
   "cell_type": "code",
   "execution_count": 18,
   "metadata": {
    "colab": {},
    "colab_type": "code",
    "id": "c_ABLcK1tD-i"
   },
   "outputs": [],
   "source": [
    "# string_value=[]\n",
    "# index_value=[]\n",
    "# for ind,i in enumerate(df_train.dtypes):\n",
    "#     if i=='object':\n",
    "#         string_value.append(df_train.dtypes.index[ind])\n",
    "#         index_value.append(ind)"
   ]
  },
  {
   "cell_type": "markdown",
   "metadata": {},
   "source": [
    "## Ploting the categorical variables for distribution "
   ]
  },
  {
   "cell_type": "code",
   "execution_count": 19,
   "metadata": {
    "colab": {},
    "colab_type": "code",
    "id": "e2ekqcvjtD_B"
   },
   "outputs": [],
   "source": [
    "def draw_conditional_barplot(feature,df):\n",
    "    # Set matplotlib style\n",
    "    plt.style.use('fivethirtyeight')\n",
    "    # Count the total yes responses in our dataset\n",
    "    n_yes = len(df[df.m13 == 1])\n",
    "    # Count the total no responses in our dataset\n",
    "    n_no = len(df[df.m13 == 0])\n",
    "    # Count the frequencies of the different jobs for the yes people\n",
    "    yes_cnts = df[df.m13 == 1][feature].value_counts() / n_yes * 100\n",
    "    # Count frequencies of jobs for the nay sayers\n",
    "    no_cnts = df[df.m13 == 0][feature].value_counts() / n_no * 100\n",
    "    \n",
    "    # A potential problem of creating two different frequency tables is that if one group (perhaps the yes crowd)...\n",
    "    # ... does not include a certain category (like a certain job) then it will not be in the frequency tables at all\n",
    "    # ... So we have to join them in one table to ensure that all categories are included\n",
    "    # ... When merging the frequncy tables, missing categories will be marked with 'NA'\n",
    "    # ... We can then replace all NAs with zeros, which is the correct frequency\n",
    "    \n",
    "    # Create a new dataframe that includes all frequencies\n",
    "    res = pd.concat([yes_cnts,no_cnts],axis=1)\n",
    "    # Name the columns of the new dataframe (yes crowd and nay sayers)\n",
    "    res.columns = ['yes','no']\n",
    "    # Fill empty fields with zeros\n",
    "    res = res.fillna(0)\n",
    "    \n",
    "    # N = number of categories\n",
    "    N = len(res['yes'])\n",
    "    # Create an array for the locations of the group (creates an array [0,1,2,...,N])\n",
    "    ind = np.arange(N) \n",
    "    # Specify width of bars\n",
    "    width = 0.35   \n",
    "    # Create empty matplotlib plot\n",
    "    fig, ax = plt.subplots()\n",
    "    # Add bars of the nay sayers\n",
    "    rects1 = ax.bar(ind, res['no'], width)\n",
    "    # Add bars of the yes crowd\n",
    "    rects2 = ax.bar(ind + width, res['yes'], width)\n",
    "\n",
    "    # Add label: feature name (e.g. job) in percent\n",
    "    ax.set_ylabel(feature + ' in percent')\n",
    "    # Add title\n",
    "    ax.set_title(feature + ' by conversion')\n",
    "    # Add ticks \n",
    "    ax.set_xticks(ind + width / 2)\n",
    "    # Add categorie names as tick labels\n",
    "    ax.set_xticklabels(res.index.values)\n",
    "    # Rotate labels 90 degrees\n",
    "    labels = ax.get_xticklabels()\n",
    "    plt.setp(labels, rotation=90)\n",
    "\n",
    "    # Add legend\n",
    "    ax.legend((rects1[0], rects2[0]), ('No', 'Yes'))\n",
    "    \n",
    "    # Render plot\n",
    "    plt.show()"
   ]
  },
  {
   "cell_type": "code",
   "execution_count": 20,
   "metadata": {
    "colab": {},
    "colab_type": "code",
    "id": "K9vsQc01tD_I"
   },
   "outputs": [
    {
     "data": {
      "image/png": "[encoded data removed]",
      "text/plain": [
       "<Figure size 432x288 with 1 Axes>"
      ]
     },
     "metadata": {},
     "output_type": "display_data"
    }
   ],
   "source": [
    "draw_conditional_barplot('source',df_train)"
   ]
  },
  {
   "cell_type": "markdown",
   "metadata": {},
   "source": [
    "## converting to datetime"
   ]
  },
  {
   "cell_type": "code",
   "execution_count": 26,
   "metadata": {
    "colab": {},
    "colab_type": "code",
    "id": "2jobhnZFtD_S"
   },
   "outputs": [],
   "source": [
    "df_train['origination_date']=pd.to_datetime(df_train[\"origination_date\"])\n",
    "df_test['origination_date']=pd.to_datetime(df_test[\"origination_date\"])"
   ]
  },
  {
   "cell_type": "code",
   "execution_count": 27,
   "metadata": {
    "colab": {},
    "colab_type": "code",
    "id": "A166cVgLtD_Y"
   },
   "outputs": [],
   "source": [
    "df_train['first_payment_date']=pd.to_datetime(df_train[\"first_payment_date\"])\n",
    "df_test['first_payment_date']=pd.to_datetime(df_test[\"first_payment_date\"])\n"
   ]
  },
  {
   "cell_type": "code",
   "execution_count": 28,
   "metadata": {
    "colab": {},
    "colab_type": "code",
    "id": "M9mIU7sJtD_b",
    "scrolled": true
   },
   "outputs": [],
   "source": [
    "df_train['payment_difference']=abs((df_train['origination_date'].dt.month)-(df_train['first_payment_date'].dt.month))\n",
    "df_test['payment_difference']=abs((df_test['origination_date'].dt.day)-(df_test['first_payment_date'].dt.day))\n"
   ]
  },
  {
   "cell_type": "markdown",
   "metadata": {},
   "source": [
    "## Using imblearn for imbalanced data to scaling the data "
   ]
  },
  {
   "cell_type": "markdown",
   "metadata": {},
   "source": []
  },
  {
   "cell_type": "code",
   "execution_count": 30,
   "metadata": {
    "colab": {
     "base_uri": "https://localhost:8080/",
     "height": 1000
    },
    "colab_type": "code",
    "id": "dQcOuujVTI5e",
    "outputId": "6442a4e2-7876-460c-926a-8959fd2b3557"
   },
   "outputs": [],
   "source": [
    "# help(SMOTE)"
   ]
  },
  {
   "cell_type": "code",
   "execution_count": 31,
   "metadata": {
    "colab": {},
    "colab_type": "code",
    "id": "dsymaJRitD_s",
    "scrolled": true
   },
   "outputs": [],
   "source": [
    "x_train=df_train.drop(columns=['m13','loan_id','origination_date','first_payment_date'],axis=1)\n",
    "x_test=df_test.drop(columns=['loan_id','origination_date','first_payment_date'],axis=1)"
   ]
  },
  {
   "cell_type": "code",
   "execution_count": 33,
   "metadata": {
    "colab": {
     "base_uri": "https://localhost:8080/",
     "height": 282
    },
    "colab_type": "code",
    "id": "KibpETI5tD_v",
    "outputId": "9a88673f-551e-4569-cba9-6527ebdc5ffc"
   },
   "outputs": [],
   "source": [
    "# x_train['origination_date_new'] = pd.to_datetime(x_train.origination_date)\n"
   ]
  },
  {
   "cell_type": "code",
   "execution_count": 34,
   "metadata": {
    "colab": {},
    "colab_type": "code",
    "id": "sfXAb7outD_3"
   },
   "outputs": [],
   "source": [
    "from sklearn import preprocessing\n",
    "\n",
    "string_value=[]\n",
    "index_value=[]\n",
    "for ind,i in enumerate(x_train.dtypes):\n",
    "    if i=='object':\n",
    "        string_value.append(x_train.dtypes.index[ind])\n",
    "        index_value.append(ind)"
   ]
  },
  {
   "cell_type": "code",
   "execution_count": 0,
   "metadata": {
    "colab": {},
    "colab_type": "code",
    "id": "WdYApcUJtD_9"
   },
   "outputs": [],
   "source": [
    "input_x_array = np.array(x_train)\n",
    "# input_x_test_array=np.array(x_test)\n",
    "\n",
    "for i in index_value:\n",
    "    lbl = preprocessing.LabelEncoder()\n",
    "    lbl.fit(list(input_x_array[:,i]))\n",
    "    input_x_array[:, i] = lbl.transform(input_x_array[:, i])"
   ]
  },
  {
   "cell_type": "markdown",
   "metadata": {},
   "source": [
    "## Random Over sampling"
   ]
  },
  {
   "cell_type": "code",
   "execution_count": 0,
   "metadata": {
    "colab": {},
    "colab_type": "code",
    "id": "g8UCVpBFtEAA"
   },
   "outputs": [],
   "source": [
    "from imblearn.over_sampling import SMOTE\n",
    "# SMOTE Technique (OverSampling) After splitting and Cross Validating\n",
    "sm = SMOTE(sampling_strategy='auto',k_neighbors=15,ratio='minority',m_neighbors=15, random_state=42)\n",
    "# Xsm_train, ysm_train = sm.fit_sample(X_train, y_train)\n",
    "\n",
    "\n",
    "# This will be the data were we are going to \n",
    "Xsm_train, ysm_train = sm.fit_sample(input_x_array, df_train.m13)"
   ]
  },
  {
   "cell_type": "markdown",
   "metadata": {},
   "source": [
    "## Random Under sampling "
   ]
  },
  {
   "cell_type": "code",
   "execution_count": 0,
   "metadata": {
    "colab": {},
    "colab_type": "code",
    "id": "D7Scoi1xpAbf"
   },
   "outputs": [],
   "source": [
    "from imblearn.under_sampling import NearMiss \n",
    "nr = NearMiss() \n",
    "X_train_miss, y_train_miss = nr.fit_sample(input_x_array, df_train.m13) "
   ]
  },
  {
   "cell_type": "code",
   "execution_count": 0,
   "metadata": {
    "colab": {
     "base_uri": "https://localhost:8080/",
     "height": 34
    },
    "colab_type": "code",
    "id": "U20G4StKpL7a",
    "outputId": "163aae8e-65d0-4f94-c24d-662b6ba630ee"
   },
   "outputs": [
    {
     "data": {
      "text/plain": [
       "(1272, 26)"
      ]
     },
     "execution_count": 134,
     "metadata": {
      "tags": []
     },
     "output_type": "execute_result"
    }
   ],
   "source": [
    "X_train_miss.shape"
   ]
  },
  {
   "cell_type": "code",
   "execution_count": 0,
   "metadata": {
    "colab": {
     "base_uri": "https://localhost:8080/",
     "height": 1000
    },
    "colab_type": "code",
    "id": "MiNgwHLd6jws",
    "outputId": "f112d5d6-4496-4554-b98f-c68c7ade1aec"
   },
   "outputs": [
    {
     "name": "stdout",
     "output_type": "stream",
     "text": [
      "Help on class SMOTE in module imblearn.over_sampling._smote:\n",
      "\n",
      "class SMOTE(SVMSMOTE, BorderlineSMOTE)\n",
      " |  Class to perform over-sampling using SMOTE.\n",
      " |  \n",
      " |  This object is an implementation of SMOTE - Synthetic Minority\n",
      " |  Over-sampling Technique as presented in [1]_.\n",
      " |  \n",
      " |  Read more in the :ref:`User Guide <smote_adasyn>`.\n",
      " |  \n",
      " |  Parameters\n",
      " |  ----------\n",
      " |  sampling_strategy : float, str, dict or callable, (default='auto')\n",
      " |      Sampling information to resample the data set.\n",
      " |  \n",
      " |      - When ``float``, it corresponds to the desired ratio of the number of\n",
      " |        samples in the majority class over the number of samples in the\n",
      " |        minority class after resampling. Therefore, the ratio is expressed as\n",
      " |        :math:`\\alpha_{os} = N_{M} / N_{rm}` where :math:`N_{rm}` and\n",
      " |        :math:`N_{M}` are the number of samples in the minority class after\n",
      " |        resampling and the number of samples in the majority class,\n",
      " |        respectively.\n",
      " |  \n",
      " |          .. warning::\n",
      " |             ``float`` is only available for **binary** classification. An\n",
      " |             error is raised for multi-class classification.\n",
      " |  \n",
      " |      - When ``str``, specify the class targeted by the resampling. The\n",
      " |        number of samples in the different classes will be equalized.\n",
      " |        Possible choices are:\n",
      " |  \n",
      " |          ``'minority'``: resample only the minority class;\n",
      " |  \n",
      " |          ``'not minority'``: resample all classes but the minority class;\n",
      " |  \n",
      " |          ``'not majority'``: resample all classes but the majority class;\n",
      " |  \n",
      " |          ``'all'``: resample all classes;\n",
      " |  \n",
      " |          ``'auto'``: equivalent to ``'not majority'``.\n",
      " |  \n",
      " |      - When ``dict``, the keys correspond to the targeted classes. The\n",
      " |        values correspond to the desired number of samples for each targeted\n",
      " |        class.\n",
      " |  \n",
      " |      - When callable, function taking ``y`` and returns a ``dict``. The keys\n",
      " |        correspond to the targeted classes. The values correspond to the\n",
      " |        desired number of samples for each class.\n",
      " |  \n",
      " |  random_state : int, RandomState instance or None, optional (default=None)\n",
      " |      Control the randomization of the algorithm.\n",
      " |  \n",
      " |      - If int, ``random_state`` is the seed used by the random number\n",
      " |        generator;\n",
      " |      - If ``RandomState`` instance, random_state is the random number\n",
      " |        generator;\n",
      " |      - If ``None``, the random number generator is the ``RandomState``\n",
      " |        instance used by ``np.random``.\n",
      " |  \n",
      " |  k_neighbors : int or object, optional (default=5)\n",
      " |      If ``int``, number of nearest neighbours to used to construct synthetic\n",
      " |      samples.  If object, an estimator that inherits from\n",
      " |      :class:`sklearn.neighbors.base.KNeighborsMixin` that will be used to\n",
      " |      find the k_neighbors.\n",
      " |  \n",
      " |  m_neighbors : int or object, optional (default=10)\n",
      " |      If int, number of nearest neighbours to use to determine if a minority\n",
      " |      sample is in danger. Used with ``kind={'borderline1', 'borderline2',\n",
      " |      'svm'}``.  If object, an estimator that inherits\n",
      " |      from :class:`sklearn.neighbors.base.KNeighborsMixin` that will be used\n",
      " |      to find the k_neighbors.\n",
      " |  \n",
      " |      .. deprecated:: 0.4\n",
      " |         ``m_neighbors`` is deprecated in 0.4 and will be removed in 0.6. Use\n",
      " |         :class:`BorderlineSMOTE` or :class:`SVMSMOTE` instead to use the\n",
      " |         intended algorithm.\n",
      " |  \n",
      " |  out_step : float, optional (default=0.5)\n",
      " |      Step size when extrapolating. Used with ``kind='svm'``.\n",
      " |  \n",
      " |      .. deprecated:: 0.4\n",
      " |         ``out_step`` is deprecated in 0.4 and will be removed in 0.6. Use\n",
      " |         :class:`SVMSMOTE` instead to use the intended algorithm.\n",
      " |  \n",
      " |  kind : str, optional (default='regular')\n",
      " |      The type of SMOTE algorithm to use one of the following options:\n",
      " |      ``'regular'``, ``'borderline1'``, ``'borderline2'``, ``'svm'``.\n",
      " |  \n",
      " |      .. deprecated:: 0.4\n",
      " |         ``kind`` is deprecated in 0.4 and will be removed in 0.6. Use\n",
      " |         :class:`BorderlineSMOTE` or :class:`SVMSMOTE` instead to use the\n",
      " |         intended algorithm.\n",
      " |  \n",
      " |  svm_estimator : object, optional (default=SVC())\n",
      " |      If ``kind='svm'``, a parametrized :class:`sklearn.svm.SVC`\n",
      " |      classifier can be passed.\n",
      " |  \n",
      " |      .. deprecated:: 0.4\n",
      " |         ``out_step`` is deprecated in 0.4 and will be removed in 0.6. Use\n",
      " |         :class:`SVMSMOTE` instead to use the intended algorithm.\n",
      " |  \n",
      " |  n_jobs : int, optional (default=1)\n",
      " |      The number of threads to open if possible.\n",
      " |  \n",
      " |  ratio : str, dict, or callable\n",
      " |      .. deprecated:: 0.4\n",
      " |         Use the parameter ``sampling_strategy`` instead. It will be removed\n",
      " |         in 0.6.\n",
      " |  \n",
      " |  Notes\n",
      " |  -----\n",
      " |  See the original papers: [1]_ for more details.\n",
      " |  \n",
      " |  Supports multi-class resampling. A one-vs.-rest scheme is used as\n",
      " |  originally proposed in [1]_.\n",
      " |  \n",
      " |  See also\n",
      " |  --------\n",
      " |  SMOTENC : Over-sample using SMOTE for continuous and categorical features.\n",
      " |  \n",
      " |  BorderlineSMOTE : Over-sample using the borderline-SMOTE variant.\n",
      " |  \n",
      " |  SVMSMOTE : Over-sample using the SVM-SMOTE variant.\n",
      " |  \n",
      " |  ADASYN : Over-sample using ADASYN.\n",
      " |  \n",
      " |  References\n",
      " |  ----------\n",
      " |  .. [1] N. V. Chawla, K. W. Bowyer, L. O.Hall, W. P. Kegelmeyer, \"SMOTE:\n",
      " |     synthetic minority over-sampling technique,\" Journal of artificial\n",
      " |     intelligence research, 321-357, 2002.\n",
      " |  \n",
      " |  Examples\n",
      " |  --------\n",
      " |  \n",
      " |  >>> from collections import Counter\n",
      " |  >>> from sklearn.datasets import make_classification\n",
      " |  >>> from imblearn.over_sampling import SMOTE # doctest: +NORMALIZE_WHITESPACE\n",
      " |  >>> X, y = make_classification(n_classes=2, class_sep=2,\n",
      " |  ... weights=[0.1, 0.9], n_informative=3, n_redundant=1, flip_y=0,\n",
      " |  ... n_features=20, n_clusters_per_class=1, n_samples=1000, random_state=10)\n",
      " |  >>> print('Original dataset shape %s' % Counter(y))\n",
      " |  Original dataset shape Counter({1: 900, 0: 100})\n",
      " |  >>> sm = SMOTE(random_state=42)\n",
      " |  >>> X_res, y_res = sm.fit_resample(X, y)\n",
      " |  >>> print('Resampled dataset shape %s' % Counter(y_res))\n",
      " |  Resampled dataset shape Counter({0: 900, 1: 900})\n",
      " |  \n",
      " |  Method resolution order:\n",
      " |      SMOTE\n",
      " |      SVMSMOTE\n",
      " |      BorderlineSMOTE\n",
      " |      BaseSMOTE\n",
      " |      imblearn.over_sampling.base.BaseOverSampler\n",
      " |      imblearn.base.BaseSampler\n",
      " |      imblearn.base.SamplerMixin\n",
      " |      abc.NewBase\n",
      " |      sklearn.base.BaseEstimator\n",
      " |      builtins.object\n",
      " |  \n",
      " |  Methods defined here:\n",
      " |  \n",
      " |  __init__(self, sampling_strategy='auto', random_state=None, k_neighbors=5, m_neighbors='deprecated', out_step='deprecated', kind='deprecated', svm_estimator='deprecated', n_jobs=1, ratio=None)\n",
      " |      Initialize self.  See help(type(self)) for accurate signature.\n",
      " |  \n",
      " |  ----------------------------------------------------------------------\n",
      " |  Data and other attributes defined here:\n",
      " |  \n",
      " |  __abstractmethods__ = frozenset()\n",
      " |  \n",
      " |  ----------------------------------------------------------------------\n",
      " |  Data descriptors inherited from imblearn.base.BaseSampler:\n",
      " |  \n",
      " |  ratio_\n",
      " |  \n",
      " |  ----------------------------------------------------------------------\n",
      " |  Methods inherited from imblearn.base.SamplerMixin:\n",
      " |  \n",
      " |  fit(self, X, y)\n",
      " |      Check inputs and statistics of the sampler.\n",
      " |      \n",
      " |      You should use ``fit_resample`` in all cases.\n",
      " |      \n",
      " |      Parameters\n",
      " |      ----------\n",
      " |      X : {array-like, sparse matrix}, shape (n_samples, n_features)\n",
      " |          Data array.\n",
      " |      \n",
      " |      y : array-like, shape (n_samples,)\n",
      " |          Target array.\n",
      " |      \n",
      " |      Returns\n",
      " |      -------\n",
      " |      self : object\n",
      " |          Return the instance itself.\n",
      " |  \n",
      " |  fit_resample(self, X, y)\n",
      " |      Resample the dataset.\n",
      " |      \n",
      " |      Parameters\n",
      " |      ----------\n",
      " |      X : {array-like, sparse matrix}, shape (n_samples, n_features)\n",
      " |          Matrix containing the data which have to be sampled.\n",
      " |      \n",
      " |      y : array-like, shape (n_samples,)\n",
      " |          Corresponding label for each sample in X.\n",
      " |      \n",
      " |      Returns\n",
      " |      -------\n",
      " |      X_resampled : {array-like, sparse matrix}, shape (n_samples_new, n_features)\n",
      " |          The array containing the resampled data.\n",
      " |      \n",
      " |      y_resampled : array-like, shape (n_samples_new,)\n",
      " |          The corresponding label of `X_resampled`.\n",
      " |  \n",
      " |  fit_sample = fit_resample(self, X, y)\n",
      " |  \n",
      " |  ----------------------------------------------------------------------\n",
      " |  Methods inherited from sklearn.base.BaseEstimator:\n",
      " |  \n",
      " |  __getstate__(self)\n",
      " |  \n",
      " |  __repr__(self, N_CHAR_MAX=700)\n",
      " |      Return repr(self).\n",
      " |  \n",
      " |  __setstate__(self, state)\n",
      " |  \n",
      " |  get_params(self, deep=True)\n",
      " |      Get parameters for this estimator.\n",
      " |      \n",
      " |      Parameters\n",
      " |      ----------\n",
      " |      deep : boolean, optional\n",
      " |          If True, will return the parameters for this estimator and\n",
      " |          contained subobjects that are estimators.\n",
      " |      \n",
      " |      Returns\n",
      " |      -------\n",
      " |      params : mapping of string to any\n",
      " |          Parameter names mapped to their values.\n",
      " |  \n",
      " |  set_params(self, **params)\n",
      " |      Set the parameters of this estimator.\n",
      " |      \n",
      " |      The method works on simple estimators as well as on nested objects\n",
      " |      (such as pipelines). The latter have parameters of the form\n",
      " |      ``<component>__<parameter>`` so that it's possible to update each\n",
      " |      component of a nested object.\n",
      " |      \n",
      " |      Returns\n",
      " |      -------\n",
      " |      self\n",
      " |  \n",
      " |  ----------------------------------------------------------------------\n",
      " |  Data descriptors inherited from sklearn.base.BaseEstimator:\n",
      " |  \n",
      " |  __dict__\n",
      " |      dictionary for instance variables (if defined)\n",
      " |  \n",
      " |  __weakref__\n",
      " |      list of weak references to the object (if defined)\n",
      "\n"
     ]
    }
   ],
   "source": [
    "help(SMOTE)"
   ]
  },
  {
   "cell_type": "code",
   "execution_count": 0,
   "metadata": {
    "colab": {},
    "colab_type": "code",
    "id": "cRdOnIV0tEAD"
   },
   "outputs": [],
   "source": [
    "lbl.fit_transform(input_x_array[0])"
   ]
  },
  {
   "cell_type": "code",
   "execution_count": 0,
   "metadata": {
    "colab": {},
    "colab_type": "code",
    "id": "HvqP-E1TtEAI"
   },
   "outputs": [],
   "source": [
    "# string_value=[]\n",
    "index_value_test=[]\n",
    "for ind,i in enumerate(x_test.dtypes):\n",
    "    if i=='object':\n",
    "#         string_value.append(x_test.dtypes.index[ind])\n",
    "        index_value_test.append(ind)\n",
    "\n",
    "input_x_test_array=np.array(x_test)\n",
    "for i in index_value:\n",
    "#     lbl = preprocessing.LabelEncoder()\n",
    "#     lbl.fit(list(input_x_test_array[:,i]))\n",
    "    input_x_test_array[:, i] = lbl.fit_transform(input_x_test_array[:, i])"
   ]
  },
  {
   "cell_type": "code",
   "execution_count": 0,
   "metadata": {
    "colab": {},
    "colab_type": "code",
    "id": "1KHylQO4tEAO"
   },
   "outputs": [],
   "source": [
    "df_train.m13.value_counts()"
   ]
  },
  {
   "cell_type": "code",
   "execution_count": 35,
   "metadata": {
    "colab": {},
    "colab_type": "code",
    "id": "iLuFvU7CtEAY"
   },
   "outputs": [],
   "source": [
    "## Random Forest classifier "
   ]
  },
  {
   "cell_type": "code",
   "execution_count": 0,
   "metadata": {
    "colab": {},
    "colab_type": "code",
    "id": "nDen80ZPtEAc"
   },
   "outputs": [],
   "source": [
    "from sklearn.ensemble import RandomForestClassifier\n",
    "from sklearn.linear_model import LogisticRegression\n",
    "from sklearn.model_selection import cross_val_score\n",
    "\n",
    "# forest_clf = RandomForestClassifier(n_estimators=150, random_state=42,class_weight='balanced')\n",
    "# forest_scores = cross_val_score(forest_clf, Xsm_train, ysm_train, cv=3)\n",
    "# forest_scores.mean()"
   ]
  },
  {
   "cell_type": "code",
   "execution_count": 0,
   "metadata": {
    "colab": {
     "base_uri": "https://localhost:8080/",
     "height": 136
    },
    "colab_type": "code",
    "id": "QjkPsf8JtEAi",
    "outputId": "51be311a-ce76-47d9-cadf-89606cd4fa48"
   },
   "outputs": [
    {
     "data": {
      "text/plain": [
       "RandomForestClassifier(bootstrap=True, class_weight='balanced',\n",
       "                       criterion='gini', max_depth=None, max_features='auto',\n",
       "                       max_leaf_nodes=None, min_impurity_decrease=0.0,\n",
       "                       min_impurity_split=None, min_samples_leaf=1,\n",
       "                       min_samples_split=2, min_weight_fraction_leaf=0.0,\n",
       "                       n_estimators=135, n_jobs=None, oob_score=False,\n",
       "                       random_state=42, verbose=0, warm_start=False)"
      ]
     },
     "execution_count": 143,
     "metadata": {
      "tags": []
     },
     "output_type": "execute_result"
    }
   ],
   "source": [
    "forest = RandomForestClassifier(n_estimators=135, random_state=42,class_weight='balanced')\n",
    "forest.fit(Xsm_train,ysm_train)"
   ]
  },
  {
   "cell_type": "code",
   "execution_count": 0,
   "metadata": {
    "colab": {
     "base_uri": "https://localhost:8080/",
     "height": 156
    },
    "colab_type": "code",
    "id": "VjRkf2TYNbFZ",
    "outputId": "9164ecd6-20b2-4e81-ba15-8341512caec2"
   },
   "outputs": [
    {
     "name": "stderr",
     "output_type": "stream",
     "text": [
      "/usr/local/lib/python3.6/dist-packages/sklearn/linear_model/logistic.py:432: FutureWarning: Default solver will be changed to 'lbfgs' in 0.22. Specify a solver to silence this warning.\n",
      "  FutureWarning)\n"
     ]
    },
    {
     "data": {
      "text/plain": [
       "LogisticRegression(C=1.0, class_weight=None, dual=False, fit_intercept=True,\n",
       "                   intercept_scaling=1, l1_ratio=None, max_iter=100,\n",
       "                   multi_class='warn', n_jobs=None, penalty='l2',\n",
       "                   random_state=0, solver='warn', tol=0.0001, verbose=0,\n",
       "                   warm_start=False)"
      ]
     },
     "execution_count": 59,
     "metadata": {
      "tags": []
     },
     "output_type": "execute_result"
    }
   ],
   "source": [
    "logist=LogisticRegression(random_state=0)\n",
    "logist.fit(Xsm_train,ysm_train)"
   ]
  },
  {
   "cell_type": "code",
   "execution_count": 0,
   "metadata": {
    "colab": {},
    "colab_type": "code",
    "id": "M0NABLJENbPg"
   },
   "outputs": [],
   "source": [
    "# y_pred_logit=logist.predict(input_x_test_array)\n",
    "y_logist_pred=pd.DataFrame(y_pred_logit,columns=['m13'])"
   ]
  },
  {
   "cell_type": "code",
   "execution_count": 0,
   "metadata": {
    "colab": {
     "base_uri": "https://localhost:8080/",
     "height": 68
    },
    "colab_type": "code",
    "id": "0-_B6CrLOJ8o",
    "outputId": "594ae719-c2a2-4fb6-8369-903a61f1c008"
   },
   "outputs": [
    {
     "data": {
      "text/plain": [
       "0    27721\n",
       "1     8145\n",
       "Name: m13, dtype: int64"
      ]
     },
     "execution_count": 65,
     "metadata": {
      "tags": []
     },
     "output_type": "execute_result"
    }
   ],
   "source": [
    "y_logist_pred['m13'].value_counts()"
   ]
  },
  {
   "cell_type": "markdown",
   "metadata": {
    "colab": {},
    "colab_type": "code",
    "id": "9OmcWSdxPae9"
   },
   "source": [
    "## XGboost got highest accuracy by using under sampling the data"
   ]
  },
  {
   "cell_type": "code",
   "execution_count": 0,
   "metadata": {
    "colab": {
     "base_uri": "https://localhost:8080/",
     "height": 136
    },
    "colab_type": "code",
    "id": "8cBpA9wIkmTe",
    "outputId": "e34ce442-49c6-4291-d648-8b5d6c3620bb"
   },
   "outputs": [
    {
     "data": {
      "text/plain": [
       "XGBClassifier(base_score=0.5, booster='gbtree', colsample_bylevel=1,\n",
       "              colsample_bynode=1, colsample_bytree=1, gamma=0,\n",
       "              learning_rate=0.1, max_delta_step=0, max_depth=3,\n",
       "              min_child_weight=1, missing=None, n_estimators=100, n_jobs=1,\n",
       "              nthread=None, objective='binary:logistic', random_state=0,\n",
       "              reg_alpha=0, reg_lambda=1, scale_pos_weight=1, seed=None,\n",
       "              silent=None, subsample=1, verbosity=1)"
      ]
     },
     "execution_count": 130,
     "metadata": {
      "tags": []
     },
     "output_type": "execute_result"
    }
   ],
   "source": [
    "from xgboost import XGBClassifier\n",
    "model_xgboost = XGBClassifier()\n",
    "model_xgboost.fit(X_train_miss,y_train_miss)"
   ]
  },
  {
   "cell_type": "code",
   "execution_count": null,
   "metadata": {},
   "outputs": [],
   "source": []
  },
  {
   "cell_type": "code",
   "execution_count": 0,
   "metadata": {
    "colab": {},
    "colab_type": "code",
    "id": "sF8AU-S1tEAq"
   },
   "outputs": [],
   "source": [
    "y_pred_forest=forest.predict(input_x_test_array)\n",
    "forest.score(x_test,y_test)"
   ]
  },
  {
   "cell_type": "code",
   "execution_count": 0,
   "metadata": {
    "colab": {},
    "colab_type": "code",
    "id": "kCa5z7GOtEAu"
   },
   "outputs": [],
   "source": [
    "pred_=pd.DataFrame(y_pred_forest,columns=['m13'])\n",
    "pred_.index=pred_.index+1\n",
    "pred_.to_csv(\"random_forest_test2.csv\")"
   ]
  },
  {
   "cell_type": "code",
   "execution_count": 0,
   "metadata": {
    "colab": {},
    "colab_type": "code",
    "id": "Me_4b5ustEAy"
   },
   "outputs": [],
   "source": [
    "pred_.m13.value_counts()"
   ]
  },
  {
   "cell_type": "code",
   "execution_count": 0,
   "metadata": {
    "colab": {},
    "colab_type": "code",
    "id": "pnLv1XoCljsS"
   },
   "outputs": [],
   "source": [
    "y_xgboost_pred=model_xgboost.predict(input_x_test_array)\n",
    "pred_xg=pd.DataFrame(y_xgboost_pred,columns=['m13'])\n"
   ]
  },
  {
   "cell_type": "code",
   "execution_count": 0,
   "metadata": {
    "colab": {},
    "colab_type": "code",
    "id": "3rEoXSQulyiJ"
   },
   "outputs": [],
   "source": [
    "pred_xg['m13'].value_counts()\n",
    "pred_xg.to_csv(\"xgboost.csv\")"
   ]
  }
 ],
 "metadata": {
  "colab": {
   "collapsed_sections": [
    "apXIzplHtEBS"
   ],
   "name": "AV.ipynb",
   "provenance": [],
   "version": "0.3.2"
  },
  "kernelspec": {
   "display_name": "Python 3",
   "language": "python",
   "name": "python3"
  },
  "language_info": {
   "codemirror_mode": {
    "name": "ipython",
    "version": 3
   },
   "file_extension": ".py",
   "mimetype": "text/x-python",
   "name": "python",
   "nbconvert_exporter": "python",
   "pygments_lexer": "ipython3",
   "version": "3.7.1"
  }
 },
 "nbformat": 4,
 "nbformat_minor": 1
}
